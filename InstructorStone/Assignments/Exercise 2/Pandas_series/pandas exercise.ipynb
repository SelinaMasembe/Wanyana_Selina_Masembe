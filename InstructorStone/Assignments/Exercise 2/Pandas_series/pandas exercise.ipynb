{
 "cells": [
  {
   "cell_type": "code",
   "execution_count": 1,
   "id": "a44fa7a8",
   "metadata": {},
   "outputs": [
    {
     "name": "stdout",
     "output_type": "stream",
     "text": [
      "0    False\n",
      "1     True\n",
      "2     True\n",
      "3    False\n",
      "4    False\n",
      "dtype: bool\n"
     ]
    }
   ],
   "source": [
    "#compare elements of two pandas series\n",
    "import pandas as pd\n",
    "import numpy as np\n",
    "# Create two pandas Series\n",
    "series1 = pd.Series([4,65,436,3,9])\n",
    "series2 = pd.Series([7,0,3,897,9])\n",
    "# Compare elements of the two series\n",
    "comparison = series1 > series2\n",
    "# Print the comparison result\n",
    "print(comparison)\n",
    "\n"
   ]
  },
  {
   "cell_type": "code",
   "execution_count": 2,
   "id": "897112b4",
   "metadata": {},
   "outputs": [
    {
     "name": "stdout",
     "output_type": "stream",
     "text": [
      "Addition:\n",
      " 0     3\n",
      "1     7\n",
      "2    11\n",
      "3    15\n",
      "4    23\n",
      "dtype: int64\n",
      "Subtraction:\n",
      " 0    1\n",
      "1    1\n",
      "2    1\n",
      "3    1\n",
      "4    5\n",
      "dtype: int64\n",
      "Multiplication:\n",
      " 0      2\n",
      "1     12\n",
      "2     30\n",
      "3     56\n",
      "4    126\n",
      "dtype: int64\n",
      "Division:\n",
      " 0    2.000000\n",
      "1    1.333333\n",
      "2    1.200000\n",
      "3    1.142857\n",
      "4    1.555556\n",
      "dtype: float64\n"
     ]
    }
   ],
   "source": [
    "#to add, subtract, multiply and divide two Pandas series. \n",
    "# Create two pandas Series\n",
    "seriesA = pd.Series([2,4,6,8,14])\n",
    "seriesB = pd.Series([1,3,5,7,9])\n",
    "# Perform arithmetic operations\n",
    "addition = seriesA + seriesB\n",
    "subtraction = seriesA - seriesB\n",
    "multiplication = seriesA * seriesB\n",
    "division = seriesA / seriesB\n",
    "print(\"Addition:\\n\", addition)\n",
    "print(\"Subtraction:\\n\", subtraction)\n",
    "print(\"Multiplication:\\n\", multiplication)\n",
    "print(\"Division:\\n\", division)\n",
    "\n",
    "\n"
   ]
  },
  {
   "cell_type": "code",
   "execution_count": 4,
   "id": "876f5b45",
   "metadata": {},
   "outputs": [
    {
     "name": "stdout",
     "output_type": "stream",
     "text": [
      "Josh       24\n",
      "Sam        36\n",
      "Peace      19\n",
      "Charles    65\n",
      "Tom        44\n",
      "dtype: int64\n"
     ]
    }
   ],
   "source": [
    "# convert a dictionary to a Pandas series\n",
    "dictionary1 = {\n",
    "    'Josh': 24,\n",
    "    'Sam': 36, \n",
    "    'Peace': 19, \n",
    "    'Charles': 65,\n",
    "    'Tom': 44}\n",
    "series3 = pd.Series(dictionary1)\n",
    "print(series3)"
   ]
  },
  {
   "cell_type": "code",
   "execution_count": 5,
   "id": "e296ab66",
   "metadata": {},
   "outputs": [
    {
     "name": "stdout",
     "output_type": "stream",
     "text": [
      "['Love' 800 'Joy' 789.9 'Peace' True]\n"
     ]
    }
   ],
   "source": [
    "#convert a given series to an array\n",
    "series4 = pd.Series(['Love', 800, 'Joy', 789.9, 'Peace', True])\n",
    "array_from_series = series4.to_numpy()\n",
    "print(array_from_series)"
   ]
  },
  {
   "cell_type": "code",
   "execution_count": 7,
   "id": "28106107",
   "metadata": {},
   "outputs": [
    {
     "name": "stdout",
     "output_type": "stream",
     "text": [
      "Most frequent value: 1.0\n",
      "0        1.0\n",
      "1      Other\n",
      "2      Other\n",
      "3      Other\n",
      "4        1.0\n",
      "       ...  \n",
      "617    Other\n",
      "618      1.0\n",
      "619    Other\n",
      "620    Other\n",
      "621    Other\n",
      "Name: HomeTeamGoals, Length: 622, dtype: object\n"
     ]
    }
   ],
   "source": [
    "#display the most frequent value in the given series and replace everything else as ‘Other’ in the series\n",
    "#(Use the ‘HomeTeamGoals’ column\n",
    "import pandas as pd\n",
    "# Load the dataset\n",
    "df = pd.read_csv('AfricaCupofNationsMatches.csv')\n",
    "#display the most frequent value-mode\n",
    "most_frequent_value = df['HomeTeamGoals'].mode()[0]\n",
    "print(\"Most frequent value:\", most_frequent_value)\n",
    "# Replace everything else with 'Other'  \n",
    "df['HomeTeamGoals'] = df['HomeTeamGoals'].apply(lambda x: x if x == most_frequent_value else 'Other')\n",
    "print(df['HomeTeamGoals'])\n",
    "\n",
    "\n"
   ]
  }
 ],
 "metadata": {
  "kernelspec": {
   "display_name": "Python 3",
   "language": "python",
   "name": "python3"
  },
  "language_info": {
   "codemirror_mode": {
    "name": "ipython",
    "version": 3
   },
   "file_extension": ".py",
   "mimetype": "text/x-python",
   "name": "python",
   "nbconvert_exporter": "python",
   "pygments_lexer": "ipython3",
   "version": "3.12.3"
  }
 },
 "nbformat": 4,
 "nbformat_minor": 5
}
