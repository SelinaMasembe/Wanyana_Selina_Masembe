{
 "cells": [
  {
   "cell_type": "code",
   "execution_count": null,
   "id": "1dc4d549",
   "metadata": {},
   "outputs": [],
   "source": [
    " #pandas series is a one-dimensional array-like object that can hold any data type.\n",
    " #a single column of data"
   ]
  },
  {
   "cell_type": "code",
   "execution_count": 1,
   "id": "043e744f",
   "metadata": {},
   "outputs": [
    {
     "name": "stdout",
     "output_type": "stream",
     "text": [
      "Series([], dtype: object)\n"
     ]
    }
   ],
   "source": [
    "import pandas as pd\n",
    "ser = pd.Series()\n",
    "print(ser)"
   ]
  }
 ],
 "metadata": {
  "kernelspec": {
   "display_name": "Python 3",
   "language": "python",
   "name": "python3"
  },
  "language_info": {
   "codemirror_mode": {
    "name": "ipython",
    "version": 3
   },
   "file_extension": ".py",
   "mimetype": "text/x-python",
   "name": "python",
   "nbconvert_exporter": "python",
   "pygments_lexer": "ipython3",
   "version": "3.12.3"
  }
 },
 "nbformat": 4,
 "nbformat_minor": 5
}
