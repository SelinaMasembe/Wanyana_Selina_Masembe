{
 "cells": [
  {
   "cell_type": "code",
   "execution_count": null,
   "id": "1dc4d549",
   "metadata": {},
   "outputs": [],
   "source": [
    " #pandas series is a one-dimensional array-like object that can hold any data type.\n",
    " #a single column of data"
   ]
  },
  {
   "cell_type": "code",
   "execution_count": 2,
   "id": "043e744f",
   "metadata": {},
   "outputs": [
    {
     "name": "stdout",
     "output_type": "stream",
     "text": [
      "Series([], dtype: object)\n",
      "<class 'pandas.core.series.Series'>\n"
     ]
    }
   ],
   "source": [
    "#an Empty pandas Series\n",
    "import pandas as pd\n",
    "ser = pd.Series()\n",
    "print(ser)\n",
    "print(type(ser))"
   ]
  },
  {
   "cell_type": "code",
   "execution_count": 3,
   "id": "15d3539a",
   "metadata": {},
   "outputs": [
    {
     "name": "stdout",
     "output_type": "stream",
     "text": [
      "0    a\n",
      "1    b\n",
      "2    c\n",
      "3    d\n",
      "dtype: object\n"
     ]
    }
   ],
   "source": [
    "#Numpy array :\n",
    "# We can easily be converted to a pandas series\n",
    "import pandas as pd\n",
    "import numpy as np\n",
    "\n",
    "data = np.array(['a', 'b', 'c', 'd'])\n",
    "series1 = pd.Series(data)\n",
    "print(series1)"
   ]
  },
  {
   "cell_type": "code",
   "execution_count": null,
   "id": "ceae2411",
   "metadata": {},
   "outputs": [
    {
     "name": "stdout",
     "output_type": "stream",
     "text": [
      "0      Ann\n",
      "1      Bob\n",
      "2    Cathy\n",
      "3    Diana\n",
      "dtype: object\n"
     ]
    }
   ],
   "source": [
    "#creating a pandas series from a list\n",
    "import pandas as pd\n",
    "mylist =['Ann','Bob','Cathy','Diana']\n",
    "series2 = pd.Series(mylist)\n",
    "print(series2)"
   ]
  },
  {
   "cell_type": "code",
   "execution_count": 6,
   "id": "f08a72e0",
   "metadata": {},
   "outputs": [
    {
     "name": "stdout",
     "output_type": "stream",
     "text": [
      "name         Ann\n",
      "age           23\n",
      "city    New York\n",
      "dtype: object\n"
     ]
    }
   ],
   "source": [
    "#creating a pandas series from a dictionary\n",
    "data_dict = {\n",
    "    'name':'Ann',\n",
    "    'age': 23,\n",
    "    'city': 'New York'\n",
    "}\n",
    "series3 = pd.Series(data_dict)\n",
    "print(series3)"
   ]
  },
  {
   "cell_type": "code",
   "execution_count": 8,
   "id": "6338c4a4",
   "metadata": {},
   "outputs": [
    {
     "name": "stdout",
     "output_type": "stream",
     "text": [
      "0     5\n",
      "1     6\n",
      "2     7\n",
      "3     8\n",
      "4     9\n",
      "5    10\n",
      "6    11\n",
      "7    12\n",
      "8    13\n",
      "9    14\n",
      "dtype: int64\n"
     ]
    }
   ],
   "source": [
    "#series functions\n",
    "\n",
    "#1.range()\n",
    "ser =pd.Series(range(5,15))\n",
    "print(ser)"
   ]
  },
  {
   "cell_type": "code",
   "execution_count": null,
   "id": "65441b3a",
   "metadata": {},
   "outputs": [
    {
     "name": "stdout",
     "output_type": "stream",
     "text": [
      "0     1.00\n",
      "1     3.25\n",
      "2     5.50\n",
      "3     7.75\n",
      "4    10.00\n",
      "dtype: float64\n"
     ]
    }
   ],
   "source": [
    "#2.numpy linspace()\n",
    "#linspace(upperlimit,lowerlimit,num_of_digits) \n",
    "# FORMULA :increment = (up-down)/ num_of_digits)-1\n",
    "ser1 =pd.Series(np.linspace(1,10,5)) #increment=2.25\n",
    "print(ser1)"
   ]
  },
  {
   "cell_type": "code",
   "execution_count": null,
   "id": "f1e0362f",
   "metadata": {},
   "outputs": [
    {
     "name": "stdout",
     "output_type": "stream",
     "text": [
      "0    1.0\n",
      "1    2.8\n",
      "2    4.6\n",
      "3    6.4\n",
      "4    8.2\n",
      "dtype: float64\n"
     ]
    }
   ],
   "source": [
    "#you can also specify that you do not want the upper limit include\n",
    "ser1 =pd.Series(np.linspace(1,10,5, endpoint = False)) \n",
    "print(ser1)\n"
   ]
  }
 ],
 "metadata": {
  "kernelspec": {
   "display_name": "Python 3",
   "language": "python",
   "name": "python3"
  },
  "language_info": {
   "codemirror_mode": {
    "name": "ipython",
    "version": 3
   },
   "file_extension": ".py",
   "mimetype": "text/x-python",
   "name": "python",
   "nbconvert_exporter": "python",
   "pygments_lexer": "ipython3",
   "version": "3.12.3"
  }
 },
 "nbformat": 4,
 "nbformat_minor": 5
}
