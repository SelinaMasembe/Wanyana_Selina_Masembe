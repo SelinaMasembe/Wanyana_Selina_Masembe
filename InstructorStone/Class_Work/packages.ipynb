{
 "cells": [
  {
   "cell_type": "code",
   "execution_count": null,
   "id": "3d5f3226-e912-45d1-b77e-7723c69a33e9",
   "metadata": {},
   "outputs": [],
   "source": [
    "#PACKAGES IN PYTHON\n",
    "#We have pandas,matplotlib,\n",
    "\n",
    "#To install packages in python :    pip install package_name\n",
    "\n",
    "#To verify the installation:   on terminal, use->  pip show package_name                OR\n",
    "\n",
    "                               #1.import package_name as alias assigned\n",
    "                               #2.print the version\n",
    "#PANDAS\n",
    "\"\"\"\n",
    "pandas- is a python library used to work on data sets.\n",
    "Thes data sets store data in different formats EG.  .csv, .json, .xlsx\n",
    "\n",
    "Use diffrent functions for analyzing, cleaning, exploring and manipulating data.\n",
    "\"\"\"\n",
    "\n",
    "#MATPLOTLIB\n",
    "\n",
    "\"\"\"\n",
    "matplotlib - is used to handle plotting all kinds of graphs\n",
    "\n",
    "\"\"\"\n",
    "\n",
    "#NUMPY\n",
    "\"\"\"\n",
    "numpy -a library usually used to handle data that comes in form of arrays.\n",
    "NUMPY = Numerical Python\n",
    "\"\"\"\n",
    "\n",
    "\n"
   ]
  }
 ],
 "metadata": {
  "kernelspec": {
   "display_name": "Python 3 (ipykernel)",
   "language": "python",
   "name": "python3"
  },
  "language_info": {
   "codemirror_mode": {
    "name": "ipython",
    "version": 3
   },
   "file_extension": ".py",
   "mimetype": "text/x-python",
   "name": "python",
   "nbconvert_exporter": "python",
   "pygments_lexer": "ipython3",
   "version": "3.12.7"
  }
 },
 "nbformat": 4,
 "nbformat_minor": 5
}
