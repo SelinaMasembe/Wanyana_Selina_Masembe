{
 "cells": [
  {
   "cell_type": "code",
   "execution_count": 1,
   "id": "b037cf57-c9b8-44c6-bbae-dece0863a458",
   "metadata": {},
   "outputs": [
    {
     "name": "stdout",
     "output_type": "stream",
     "text": [
      "10\n",
      "<class 'int'>\n"
     ]
    }
   ],
   "source": [
    "#inbuilt data types: str, int, float, boolean, sets, dictionary, lists ,complex\n",
    "\n",
    "#initialize\n",
    "z=10\n",
    "print(z)\n",
    "#type of variable\n",
    "print(type(z))"
   ]
  },
  {
   "cell_type": "code",
   "execution_count": 3,
   "id": "0415356a-f4fb-4567-883b-d91664b07d9a",
   "metadata": {},
   "outputs": [
    {
     "name": "stdout",
     "output_type": "stream",
     "text": [
      "Selina\n",
      "<class 'str'>\n"
     ]
    }
   ],
   "source": [
    " #Stings \n",
    "#Python is case sensitive, name4 != Name4\n",
    "name =\"Selina\"\n",
    "print(name)\n",
    "print(type(name))"
   ]
  },
  {
   "cell_type": "code",
   "execution_count": 8,
   "id": "4de55412-5781-4802-9f2d-6eb39a994f75",
   "metadata": {},
   "outputs": [
    {
     "name": "stdout",
     "output_type": "stream",
     "text": [
      "<class 'complex'>\n",
      "6j is of type <class 'complex'>\n"
     ]
    }
   ],
   "source": [
    "#Complex numbers\n",
    "\n",
    "#a + bi\n",
    "#b + bj\n",
    "#a is the real number\n",
    "#bi or bj is the Imaginary part   BUT bj is more used\n",
    "\n",
    "r = 7 + 5j\n",
    "print(type(r))\n",
    "\n",
    "y = 6j\n",
    "#remember that there is a silent zero : 0 + 6j\n",
    "print(y, \"is of type\", type(y))\n"
   ]
  },
  {
   "cell_type": "code",
   "execution_count": 15,
   "id": "409ad9b5-8e87-4237-a0d6-9a3468c25ed0",
   "metadata": {},
   "outputs": [
    {
     "name": "stdout",
     "output_type": "stream",
     "text": [
      "['Selina', 'Paul', 'Rose', 'Michael']\n",
      "Paul\n",
      "Michael\n",
      "['Selina', 'Paul', 'Isaac', 'Michael']\n",
      "['BMW', 'Ford', 'Mustang']\n",
      "[1, 2, 3, 4, 5]\n"
     ]
    }
   ],
   "source": [
    "#Storing multiple values in a single variable\n",
    "\n",
    "#Python Lists\n",
    "# Use SQUARE BRACKETS\n",
    "#They are orderded\n",
    "\n",
    "name =[\"Selina\", \"Paul\", \"Rose\", \"Michael\"]\n",
    "print(name)\n",
    "\n",
    "#accessing an element - index that start from 0\n",
    "print(name[1])\n",
    "\n",
    "#negative indexing - indices start at -1 from the last item.\n",
    "print(name[-1])\n",
    "\n",
    "#changing an item in a list\n",
    "name[2] =\"Isaac\"\n",
    "print(name)\n",
    "\n",
    "#list constructor - 2 curly brackets\n",
    "cars = list((\"BMW\", \"Ford\", \"Mustang\"))\n",
    "print(cars)\n",
    "\n",
    "#can store data of different data types\n",
    "numbers = [1,2,3,4,5]\n",
    "print(numbers)"
   ]
  },
  {
   "cell_type": "code",
   "execution_count": null,
   "id": "4f105938-acee-4fbc-8a0c-794e79d5a00c",
   "metadata": {},
   "outputs": [],
   "source": []
  }
 ],
 "metadata": {
  "kernelspec": {
   "display_name": "Python 3 (ipykernel)",
   "language": "python",
   "name": "python3"
  },
  "language_info": {
   "codemirror_mode": {
    "name": "ipython",
    "version": 3
   },
   "file_extension": ".py",
   "mimetype": "text/x-python",
   "name": "python",
   "nbconvert_exporter": "python",
   "pygments_lexer": "ipython3",
   "version": "3.12.7"
  }
 },
 "nbformat": 4,
 "nbformat_minor": 5
}
