{
 "cells": [
  {
   "cell_type": "code",
   "execution_count": 5,
   "id": "b42f16b4-e198-4b2c-b786-ac2cf5671fc5",
   "metadata": {},
   "outputs": [
    {
     "name": "stdout",
     "output_type": "stream",
     "text": [
      "The product is: 6\n"
     ]
    }
   ],
   "source": [
    "#Method overloading: 2/ more methods with the same name but different parameter list\n",
    "def sum(w,r):\n",
    "    result = w+r\n",
    "    print('The sum of 2 numbers is:',result)\n",
    "\n",
    "def sum(w,x,y):\n",
    "    result = w+x+y\n",
    "    print('The sum of 3 numbers is:',result)\n",
    "\n",
    "#NOTE: Python considers the latest defined method when it comes to over loading\n",
    "#sum(1,2) -this would cause an error since the number of parametrs passed is less compared to those required by the latest sum() method.\n",
    "\n",
    "def product(a,b):\n",
    "    result= a*b\n",
    "    print('The product is:' , result)\n",
    "\n",
    "def product (a,b,c):\n",
    "    result = a*b*c\n",
    "    print('The product is:',result)\n",
    "\n",
    "product(1,2,3) #calling the latest method gives the output with no error."
   ]
  },
  {
   "cell_type": "code",
   "execution_count": 8,
   "id": "3f6bc6be-e91b-4661-b420-4d3a1c85197a",
   "metadata": {},
   "outputs": [
    {
     "name": "stdout",
     "output_type": "stream",
     "text": [
      "Thes sum of integers is: 6\n",
      "The sum of floats is: 3.0\n"
     ]
    }
   ],
   "source": [
    "#preferred installer program-pip\n",
    "#pip helps us install packages in python.-> standard package manager for python.\n",
    "#then install multiple dispatch\n",
    "\n",
    "#the most efficient method of overloading is using dispatch.\n",
    "\n",
    "from multipledispatch import dispatch\n",
    "\n",
    "@dispatch(int,int,int)\n",
    "def sum(a,b,c):\n",
    "    result = a+b+c\n",
    "    print('Thes sum of integers is:',result)\n",
    "\n",
    "@dispatch(float,float)\n",
    "def sum(x,y):\n",
    "    result=x+y\n",
    "    print('The sum of floats is:',result)\n",
    "\n",
    "sum(1,2,3)\n",
    "sum(1.5,1.5)"
   ]
  },
  {
   "cell_type": "code",
   "execution_count": 9,
   "id": "c9cf026e-40b6-43b0-aa56-caa71f83a1de",
   "metadata": {},
   "outputs": [
    {
     "name": "stdout",
     "output_type": "stream",
     "text": [
      "The sum of 2 numbers is: 3\n"
     ]
    }
   ],
   "source": [
    "#using dispatch for the first example.\n",
    "@dispatch(int,int)\n",
    "def sum(w,r):\n",
    "    result = w+r\n",
    "    print('The sum of 2 numbers is:',result)\n",
    "\n",
    "@dispatch(int,int,int)\n",
    "def sum(w,x,y):\n",
    "    result = w+x+y\n",
    "    print('The sum of 3 numbers is:',result)\n",
    "\n",
    "sum(1,2)"
   ]
  },
  {
   "cell_type": "code",
   "execution_count": null,
   "id": "47ffaca2-8925-4d34-8bc9-cac582f79776",
   "metadata": {},
   "outputs": [],
   "source": []
  }
 ],
 "metadata": {
  "kernelspec": {
   "display_name": "Python 3 (ipykernel)",
   "language": "python",
   "name": "python3"
  },
  "language_info": {
   "codemirror_mode": {
    "name": "ipython",
    "version": 3
   },
   "file_extension": ".py",
   "mimetype": "text/x-python",
   "name": "python",
   "nbconvert_exporter": "python",
   "pygments_lexer": "ipython3",
   "version": "3.12.7"
  }
 },
 "nbformat": 4,
 "nbformat_minor": 5
}
