{
 "cells": [
  {
   "cell_type": "code",
   "execution_count": null,
   "id": "63bb811e",
   "metadata": {},
   "outputs": [],
   "source": [
    "#Reading and Writing to a file\n",
    "\n",
    "#READING A FILE in read mode\n",
    "file = open(\"selina.txt\", \"r\") #open file only to read its content\n",
    "\n",
    "#Reading the entire content of the file\n",
    "content = file.read()\n",
    "print(\"Content of the file:\")\n",
    "print(content)\n",
    "\n",
    "#close the file after reading\n",
    "file.close() "
   ]
  },
  {
   "cell_type": "code",
   "execution_count": null,
   "id": "e8e8ee83",
   "metadata": {},
   "outputs": [],
   "source": [
    "#writing to a file in write mode\n",
    "file = open(\"selina.txt\", \"w\") #open file to write content\n",
    "#Writing new content to the file    \n",
    "file.write(\"This is a new line of text.\\n\")\n",
    "#close the file after writing   \n",
    "file.close()"
   ]
  }
 ],
 "metadata": {
  "kernelspec": {
   "display_name": "base",
   "language": "python",
   "name": "python3"
  },
  "language_info": {
   "codemirror_mode": {
    "name": "ipython",
    "version": 3
   },
   "file_extension": ".py",
   "mimetype": "text/x-python",
   "name": "python",
   "nbconvert_exporter": "python",
   "pygments_lexer": "ipython3",
   "version": "3.12.7"
  }
 },
 "nbformat": 4,
 "nbformat_minor": 5
}
