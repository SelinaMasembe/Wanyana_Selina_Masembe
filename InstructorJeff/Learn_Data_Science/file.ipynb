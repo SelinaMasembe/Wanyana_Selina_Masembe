{
 "cells": [
  {
   "cell_type": "code",
   "execution_count": 6,
   "id": "63bb811e",
   "metadata": {},
   "outputs": [
    {
     "name": "stdout",
     "output_type": "stream",
     "text": [
      "Content of the file:\n",
      "My name is selina.\n",
      "\n"
     ]
    }
   ],
   "source": [
    "#Reading and Writing to a file\n",
    "\n",
    "#READING A FILE in read mode\n",
    "file = open(\"selina.txt\", \"r\") #open file only to read its content\n",
    "\n",
    "#Reading the entire content of the file\n",
    "content = file.read()\n",
    "print(\"Content of the file:\")\n",
    "print(content)\n",
    "\n",
    "#close the file after reading\n",
    "file.close() "
   ]
  },
  {
   "cell_type": "code",
   "execution_count": 4,
   "id": "e8e8ee83",
   "metadata": {},
   "outputs": [
    {
     "name": "stdout",
     "output_type": "stream",
     "text": [
      "Content of the file after writing:\n",
      "This is a new line added to the file.\n",
      "This is another line.\n",
      "\n"
     ]
    }
   ],
   "source": [
    "with open(\"write.txt\", \"w\") as file:\n",
    "    #Writing to the file\n",
    "    file.write(\"This is a new line added to the file.\\n\")   #replaces the content if file already exists\n",
    "    file.write(\"This is another line.\\n\")\n",
    "    \n",
    "# The file is automatically closed after the with block\n",
    "\n",
    "with open(\"write.txt\", \"r\") as file:\n",
    "    #Reading the content of the file after writing\n",
    "    new_content = file.read()\n",
    "    print(\"Content of the file after writing:\")\n",
    "    print(new_content)  \n",
    "    "
   ]
  },
  {
   "cell_type": "code",
   "execution_count": 5,
   "id": "bcd64e96",
   "metadata": {},
   "outputs": [
    {
     "name": "stdout",
     "output_type": "stream",
     "text": [
      "Content of the file after appending:\n",
      "This is a new line added to the file.\n",
      "This is another line.\n",
      "This line is appended to the file.\n",
      "\n"
     ]
    }
   ],
   "source": [
    "#qppend to a file\n",
    "with open(\"write.txt\", \"a\") as file:\n",
    "    #Appending to the file\n",
    "    file.write(\"This line is appended to the file.\\n\")\n",
    "    \n",
    "# Reading the content of the file after appending\n",
    "with open(\"write.txt\", \"r\") as file:\n",
    "    appended_content = file.read()\n",
    "    print(\"Content of the file after appending:\")\n",
    "    print(appended_content)"
   ]
  },
  {
   "cell_type": "code",
   "execution_count": null,
   "id": "c2a010bb",
   "metadata": {},
   "outputs": [],
   "source": [
    "#csv file = comma separated values file"
   ]
  }
 ],
 "metadata": {
  "kernelspec": {
   "display_name": "base",
   "language": "python",
   "name": "python3"
  },
  "language_info": {
   "codemirror_mode": {
    "name": "ipython",
    "version": 3
   },
   "file_extension": ".py",
   "mimetype": "text/x-python",
   "name": "python",
   "nbconvert_exporter": "python",
   "pygments_lexer": "ipython3",
   "version": "3.12.7"
  }
 },
 "nbformat": 4,
 "nbformat_minor": 5
}
