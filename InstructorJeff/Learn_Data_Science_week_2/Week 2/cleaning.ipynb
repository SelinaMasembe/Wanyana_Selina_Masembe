{
 "cells": [
  {
   "cell_type": "code",
   "execution_count": null,
   "id": "a53979b6",
   "metadata": {},
   "outputs": [],
   "source": [
    "import pandas as pd\n",
    "\n",
    "df = pd.read_csv('data.csv')\n",
    "#print the first 5 rows of the DataFrame\n",
    "df.head(5)"
   ]
  },
  {
   "cell_type": "code",
   "execution_count": null,
   "id": "ce8babee",
   "metadata": {},
   "outputs": [],
   "source": [
    "#Data Processing or Data Cleaning\n",
    "\"\"\"\n",
    "BAD DATA:\n",
    "1.Empty values\n",
    "2.Wrong formats        30/05/2025   30052025\n",
    "3.Wrong data     Age: 23, -23,  123,   20\n",
    "4.Duplicate data\n",
    "5.Outliers  \n",
    "\"\"\""
   ]
  },
  {
   "cell_type": "code",
   "execution_count": null,
   "id": "c413fdc7",
   "metadata": {},
   "outputs": [
    {
     "name": "stdout",
     "output_type": "stream",
     "text": [
      "Duration    0\n",
      "Pulse       0\n",
      "Maxpulse    0\n",
      "Calories    5\n",
      "dtype: int64\n"
     ]
    }
   ],
   "source": [
    "#handling empty values\n",
    "#checking for empty values\n",
    "print(df.isnull().sum())  #sum of empty cells per column."
   ]
  },
  {
   "cell_type": "code",
   "execution_count": null,
   "id": "ca4b450e",
   "metadata": {},
   "outputs": [],
   "source": [
    "#checking data types / wrong formats\n",
    "print(df.dtypes)  #data types of each column"
   ]
  },
  {
   "cell_type": "code",
   "execution_count": 3,
   "id": "210abe44",
   "metadata": {},
   "outputs": [],
   "source": [
    "#checking for non-numeric values in numeric columns\n",
    "for col in ['Duration','Pulse','Maxpulse','Calories']:\n",
    "    if not pd.api.types.is_numeric_dtype(df[col]):\n",
    "        print(f\"Non-numeric values found in {col}:\")\n",
    "        print(df[~df[col].apply(lambda x: isinstance(x, (int, float)))][col])    "
   ]
  },
  {
   "cell_type": "code",
   "execution_count": 4,
   "id": "e35d5d32",
   "metadata": {},
   "outputs": [],
   "source": [
    "#check for negative values in numeric columns\n",
    "for col in ['Duration','Pulse','Maxpulse','Calories']:\n",
    "    if (df[col] < 0).any():\n",
    "        print(f\"Negative values found in {col}:\")\n",
    "        print(df[df[col] < 0][col])"
   ]
  },
  {
   "cell_type": "code",
   "execution_count": 7,
   "id": "e0ecb7d1",
   "metadata": {},
   "outputs": [
    {
     "name": "stdout",
     "output_type": "stream",
     "text": [
      "Duplicate rows found:\n",
      "     Duration  Pulse  Maxpulse  Calories\n",
      "36         60    102       127     300.0\n",
      "37         60    100       120     300.0\n",
      "38         60    100       120     300.0\n",
      "40         45     90       112     180.1\n",
      "71         60    109       153     387.6\n",
      "113        45    100       120     225.3\n",
      "155        60    111       151     368.5\n"
     ]
    }
   ],
   "source": [
    "#checking for duplicate rows\n",
    "duplicates = df.duplicated()\n",
    "if duplicates.any():\n",
    "    print(\"Duplicate rows found:\")\n",
    "    print(df[duplicates])"
   ]
  },
  {
   "cell_type": "code",
   "execution_count": null,
   "id": "fa066af6",
   "metadata": {},
   "outputs": [],
   "source": [
    "\"\"\"\n",
    "CLEANING DATA:\n",
    "1. Fill empty values with mean or median\n",
    "2. Convert wrong formats to correct formats\n",
    "3. Remove or correct wrong data\n",
    "4. Remove duplicate rows\n",
    "5. Handle outliers\n",
    "\"\"\""
   ]
  },
  {
   "cell_type": "code",
   "execution_count": null,
   "id": "a4035e40",
   "metadata": {},
   "outputs": [
    {
     "name": "stdout",
     "output_type": "stream",
     "text": [
      "Duration    0\n",
      "Pulse       0\n",
      "Maxpulse    0\n",
      "Calories    0\n",
      "dtype: int64\n"
     ]
    }
   ],
   "source": [
    "#fill empty values with mean\n",
    "for col in ['Duration', 'Pulse', 'Maxpulse', 'Calories']:\n",
    "    if df[col].isnull().any():\n",
    "        mean_value = df[col].mean()\n",
    "        df[col].fillna(mean_value, inplace=True)\n",
    "        \n",
    "        \n",
    "#check for if there are still any empty values\n",
    "print(df.isnull().sum())  #calories is no longer null."
   ]
  },
  {
   "cell_type": "code",
   "execution_count": 10,
   "id": "0ff77b1c",
   "metadata": {},
   "outputs": [
    {
     "name": "stdout",
     "output_type": "stream",
     "text": [
      "Data shape after cleaning: (169, 4)\n"
     ]
    }
   ],
   "source": [
    "#shape tells us the number of rows and columns\n",
    "#EDA- Exploratory Data Analysis\n",
    "\n",
    "print(\"Data shape after cleaning:\", df.shape)"
   ]
  },
  {
   "cell_type": "code",
   "execution_count": null,
   "id": "91fffdf5",
   "metadata": {},
   "outputs": [],
   "source": [
    "#get descriptive statistics\n",
    "#descibe() gives us count, mean, std, min, 25%, 50%, 75%, max\n",
    "print(\"Descriptive statistics:\", df.describe())"
   ]
  }
 ],
 "metadata": {
  "kernelspec": {
   "display_name": "base",
   "language": "python",
   "name": "python3"
  },
  "language_info": {
   "codemirror_mode": {
    "name": "ipython",
    "version": 3
   },
   "file_extension": ".py",
   "mimetype": "text/x-python",
   "name": "python",
   "nbconvert_exporter": "python",
   "pygments_lexer": "ipython3",
   "version": "3.12.7"
  }
 },
 "nbformat": 4,
 "nbformat_minor": 5
}
