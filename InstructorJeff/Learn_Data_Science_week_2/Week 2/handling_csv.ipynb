{
 "cells": [
  {
   "cell_type": "code",
   "execution_count": null,
   "id": "6d535038",
   "metadata": {},
   "outputs": [],
   "source": [
    "\"\"\"\n",
    "csv- comma separated value file\n",
    "\n",
    "marked with indices starting at 0.\n",
    "similar to excel\n",
    "\"\"\""
   ]
  },
  {
   "cell_type": "code",
   "execution_count": null,
   "id": "9f1d73dc",
   "metadata": {},
   "outputs": [],
   "source": [
    "#Use built-in csv module\n",
    "import csv\n",
    "\n",
    "#open csv file\n",
    "with open('data.csv', 'r') as csvfile:\n",
    "    #create a csv reader object\n",
    "    csvreader = csv.reader(csvfile)\n",
    "    \n",
    "    #read the header row\n",
    "    header = next(csvreader)\n",
    "    print(\"Header:\", header)\n",
    "    \n",
    "    #read the data rows\n",
    "    for row in csvreader:\n",
    "        print(\"Row:\", row)\n",
    "        \n",
    "    "
   ]
  },
  {
   "cell_type": "code",
   "execution_count": 2,
   "id": "4af75ab5",
   "metadata": {},
   "outputs": [
    {
     "name": "stdout",
     "output_type": "stream",
     "text": [
      "<class 'pandas.core.frame.DataFrame'>\n",
      "RangeIndex: 169 entries, 0 to 168\n",
      "Data columns (total 4 columns):\n",
      " #   Column    Non-Null Count  Dtype  \n",
      "---  ------    --------------  -----  \n",
      " 0   Duration  169 non-null    int64  \n",
      " 1   Pulse     169 non-null    int64  \n",
      " 2   Maxpulse  169 non-null    int64  \n",
      " 3   Calories  164 non-null    float64\n",
      "dtypes: float64(1), int64(3)\n",
      "memory usage: 5.4 KB\n"
     ]
    }
   ],
   "source": [
    "#reading a csv file with pamdas and numpy\n",
    "import pandas as pd\n",
    "import numpy as np\n",
    "\n",
    "#read csv file using pandas\n",
    "\n",
    "#create a DataFrame from a CSV file\n",
    "#This assumes the CSV file is in the same directory as this script\n",
    "#If the file is in a different directory, provide the full path\n",
    "df = pd.read_csv('data.csv')\n",
    "\n",
    "\n",
    "df.info()  # Display DataFrame information"
   ]
  },
  {
   "cell_type": "code",
   "execution_count": 3,
   "id": "ad36529a",
   "metadata": {},
   "outputs": [
    {
     "name": "stdout",
     "output_type": "stream",
     "text": [
      "NumPy version: 1.26.4\n",
      "Pandas version: 2.2.2\n"
     ]
    }
   ],
   "source": [
    "#Check whether you have pandas and numpy installed\n",
    "import numpy\n",
    "import pandas\n",
    "\n",
    "print(\"NumPy version:\", numpy.__version__)\n",
    "print(\"Pandas version:\", pandas.__version__)\n"
   ]
  },
  {
   "cell_type": "code",
   "execution_count": null,
   "id": "9e754ecc",
   "metadata": {},
   "outputs": [
    {
     "name": "stdout",
     "output_type": "stream",
     "text": [
      "DataFrame Statistics:\n",
      "         Duration       Pulse    Maxpulse     Calories\n",
      "count  169.000000  169.000000  169.000000   164.000000\n",
      "mean    63.846154  107.461538  134.047337   375.790244\n",
      "std     42.299949   14.510259   16.450434   266.379919\n",
      "min     15.000000   80.000000  100.000000    50.300000\n",
      "25%     45.000000  100.000000  124.000000   250.925000\n",
      "50%     60.000000  105.000000  131.000000   318.600000\n",
      "75%     60.000000  111.000000  141.000000   387.600000\n",
      "max    300.000000  159.000000  184.000000  1860.400000\n"
     ]
    }
   ],
   "source": [
    "#To find out simple statistics of the data\n",
    "print(\"DataFrame Statistics:\")\n",
    "statistics = df.describe()\n",
    "print(statistics)"
   ]
  },
  {
   "cell_type": "code",
   "execution_count": 5,
   "id": "6dd3a056",
   "metadata": {},
   "outputs": [
    {
     "name": "stdout",
     "output_type": "stream",
     "text": [
      "First 5 rows of the DataFrame:\n",
      "   Duration  Pulse  Maxpulse  Calories\n",
      "0        60    110       130     409.1\n",
      "1        60    117       145     479.0\n",
      "2        60    103       135     340.0\n",
      "3        45    109       175     282.4\n",
      "4        45    117       148     406.0\n"
     ]
    }
   ],
   "source": [
    "#printing the first 5 rows of the DataFrame\n",
    "print(\"First 5 rows of the DataFrame:\")\n",
    "first_five_rows = df.head()\n",
    "print(first_five_rows)"
   ]
  }
 ],
 "metadata": {
  "kernelspec": {
   "display_name": "base",
   "language": "python",
   "name": "python3"
  },
  "language_info": {
   "codemirror_mode": {
    "name": "ipython",
    "version": 3
   },
   "file_extension": ".py",
   "mimetype": "text/x-python",
   "name": "python",
   "nbconvert_exporter": "python",
   "pygments_lexer": "ipython3",
   "version": "3.12.7"
  }
 },
 "nbformat": 4,
 "nbformat_minor": 5
}
