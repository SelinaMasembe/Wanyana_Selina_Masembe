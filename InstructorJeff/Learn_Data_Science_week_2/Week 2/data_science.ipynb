{
 "cells": [
  {
   "cell_type": "code",
   "execution_count": null,
   "id": "8bc66097",
   "metadata": {},
   "outputs": [],
   "source": [
    "#Data science with python\n",
    "#What is data Science?\n",
    "#uses scientific methods, algorithms, processes to study large data sets"
   ]
  },
  {
   "cell_type": "code",
   "execution_count": null,
   "id": "5d33de6c",
   "metadata": {},
   "outputs": [],
   "source": [
    "\"\"\"\n",
    "KEY ELEMENTS OF DATA SCIENCE\n",
    "1.Data collection\n",
    "2.Data Cleaning\n",
    "3.Data Exploration\n",
    "\n",
    "\"\"\"\n",
    "\n",
    "#difference between data science, data analyst and data engineer"
   ]
  },
  {
   "cell_type": "code",
   "execution_count": null,
   "id": "0b6b3bbc",
   "metadata": {},
   "outputs": [],
   "source": [
    "\"\"\"\n",
    "Tools and Skills in data science\n",
    "R, Python, SQL, Hadoop,Spark, Tableau, Power BI, Jupiter notebooks,TensorFlow, PyTorch\n",
    "\"\"\""
   ]
  }
 ],
 "metadata": {
  "kernelspec": {
   "display_name": "base",
   "language": "python",
   "name": "python3"
  },
  "language_info": {
   "name": "python",
   "version": "3.12.7"
  }
 },
 "nbformat": 4,
 "nbformat_minor": 5
}
